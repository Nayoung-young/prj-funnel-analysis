{
  "nbformat": 4,
  "nbformat_minor": 0,
  "metadata": {
    "colab": {
      "provenance": [],
      "toc_visible": true,
      "mount_file_id": "1Lc-J0RnoSAsylmFcLYCjh9JIYjm1C99X",
      "authorship_tag": "ABX9TyMY741PkVIlWttSZvc5NXsq",
      "include_colab_link": true
    },
    "kernelspec": {
      "name": "python3",
      "display_name": "Python 3"
    },
    "language_info": {
      "name": "python"
    }
  },
  "cells": [
    {
      "cell_type": "markdown",
      "metadata": {
        "id": "view-in-github",
        "colab_type": "text"
      },
      "source": [
        "<a href=\"https://colab.research.google.com/github/Nayoung-young/prj-funnel-analysis/blob/main/user_funnel_analysis.ipynb\" target=\"_parent\"><img src=\"https://colab.research.google.com/assets/colab-badge.svg\" alt=\"Open In Colab\"/></a>"
      ]
    },
    {
      "cell_type": "markdown",
      "source": [
        "# _0. 프로젝트 설명\n",
        "\n",
        "> `목적: 어떤 퍼널에서 유저들이 가장 많이 이탈하고 있는가? `\n",
        "\n",
        "- 2021-04-23부터 2021-04-29까지 7일 간의 모바일 서비스 유저 데이터를 통한 퍼널 분석\n",
        "\n",
        "- 퍼널 필드의 레코드: 퍼널별 유저 체류 시간\n",
        "\n"
      ],
      "metadata": {
        "id": "1pS3TK7UMvhJ"
      }
    },
    {
      "cell_type": "code",
      "execution_count": 3,
      "metadata": {
        "id": "sgEfgXH6MO_T"
      },
      "outputs": [],
      "source": [
        "import pandas as pd # python에서의 엑셀과 같은 역할\n",
        "import numpy as np # 계산을 편하게 해 주는 라이브러리\n",
        "import matplotlib.pyplot as plt # 시각화\n",
        "import seaborn as sns # 시각화\n",
        "\n",
        "import matplotlib.ticker as ticker # 시각화\n",
        "import matplotlib.dates as mdates # 시각화\n",
        "\n",
        "import warnings\n",
        "warnings.filterwarnings('ignore')"
      ]
    },
    {
      "cell_type": "markdown",
      "source": [
        "# _1. 데이터 불러오기"
      ],
      "metadata": {
        "id": "o7vp2I9fMybd"
      }
    },
    {
      "cell_type": "code",
      "source": [
        "%%time\n",
        "df = pd.read_csv('/content/drive/MyDrive/dataset_2023/개인프로젝트/funnel_sample_final.csv')\n",
        "df_base = df.copy()"
      ],
      "metadata": {
        "colab": {
          "base_uri": "https://localhost:8080/"
        },
        "id": "0XBeEnrIM1La",
        "outputId": "f000a42d-bcfa-431a-9190-b20f756e71e3"
      },
      "execution_count": 4,
      "outputs": [
        {
          "output_type": "stream",
          "name": "stdout",
          "text": [
            "CPU times: user 7.33 s, sys: 2.19 s, total: 9.52 s\n",
            "Wall time: 11.1 s\n"
          ]
        }
      ]
    },
    {
      "cell_type": "code",
      "source": [
        "df_base.info()"
      ],
      "metadata": {
        "colab": {
          "base_uri": "https://localhost:8080/"
        },
        "id": "4o6OtdEeM1Qe",
        "outputId": "de0334f6-d6fd-4a50-d14f-16ce95d1d524"
      },
      "execution_count": 5,
      "outputs": [
        {
          "output_type": "stream",
          "name": "stdout",
          "text": [
            "<class 'pandas.core.frame.DataFrame'>\n",
            "RangeIndex: 1902435 entries, 0 to 1902434\n",
            "Data columns (total 33 columns):\n",
            " #   Column                 Dtype  \n",
            "---  ------                 -----  \n",
            " 0   dates                  object \n",
            " 1   hours                  int64  \n",
            " 2   age_layer              object \n",
            " 3   se_inflowed            int64  \n",
            " 4   se_joined              float64\n",
            " 5   se_cert_pv             float64\n",
            " 6   se_cert_done           float64\n",
            " 7   se_tax_calculation     float64\n",
            " 8   se_tax_check           float64\n",
            " 9   se_pay_pv              float64\n",
            " 10  se_is_not_target       float64\n",
            " 11  se_ref                 float64\n",
            " 12  se_ref_kt              float64\n",
            " 13  se_ref_lk              float64\n",
            " 14  se_additional_info_pv  float64\n",
            " 15  se_add_done            float64\n",
            " 16  se_edit_done           float64\n",
            " 17  se_save_done           float64\n",
            " 18  et_inflowed            object \n",
            " 19  et_joined              object \n",
            " 20  et_cert_pv             object \n",
            " 21  et_cert_done           object \n",
            " 22  et_tax_calculation     object \n",
            " 23  et_tax_check           object \n",
            " 24  et_pay_pv              object \n",
            " 25  et_is_not_target       object \n",
            " 26  et_ref                 object \n",
            " 27  et_ref_kt              object \n",
            " 28  et_ref_lk              object \n",
            " 29  et_additional_info_pv  object \n",
            " 30  et_add_done            object \n",
            " 31  et_edit_done           object \n",
            " 32  et_save_done           object \n",
            "dtypes: float64(14), int64(2), object(17)\n",
            "memory usage: 479.0+ MB\n"
          ]
        }
      ]
    },
    {
      "cell_type": "code",
      "source": [
        "df_base.sample(5)"
      ],
      "metadata": {
        "colab": {
          "base_uri": "https://localhost:8080/",
          "height": 386
        },
        "id": "dLh9FB2eNGAi",
        "outputId": "267389ab-739f-458d-bc82-e372603890c8"
      },
      "execution_count": 6,
      "outputs": [
        {
          "output_type": "execute_result",
          "data": {
            "text/plain": [
              "              dates  hours age_layer    se_inflowed     se_joined  se_cert_pv  \\\n",
              "846288   2021-04-23     13   Unknown  1650688621809  1.650689e+12         NaN   \n",
              "139717   2021-04-26     12   Unknown  1650944665737           NaN         NaN   \n",
              "488928   2021-04-28      1   Unknown  1651078791395           NaN         NaN   \n",
              "1585981  2021-04-27     11   Unknown  1651026382499           NaN         NaN   \n",
              "904685   2021-04-28     14       20s  1651125230080  1.651125e+12         NaN   \n",
              "\n",
              "         se_cert_done  se_tax_calculation  se_tax_check  se_pay_pv  ...  \\\n",
              "846288            NaN                 NaN           NaN        NaN  ...   \n",
              "139717            NaN                 NaN           NaN        NaN  ...   \n",
              "488928            NaN                 NaN           NaN        NaN  ...   \n",
              "1585981           NaN                 NaN           NaN        NaN  ...   \n",
              "904685            NaN                 NaN           NaN        NaN  ...   \n",
              "\n",
              "         et_tax_check  et_pay_pv  et_is_not_target  et_ref  et_ref_kt  \\\n",
              "846288            NaN        NaN               NaN     NaN        NaN   \n",
              "139717            NaN        NaN               NaN     NaN        NaN   \n",
              "488928            NaN        NaN               NaN     NaN        NaN   \n",
              "1585981           NaN        NaN               NaN     NaN        NaN   \n",
              "904685            NaN        NaN               NaN     NaN        NaN   \n",
              "\n",
              "         et_ref_lk  et_additional_info_pv  et_add_done et_edit_done  \\\n",
              "846288         NaN                    NaN          NaN          NaN   \n",
              "139717         NaN                    NaN          NaN          NaN   \n",
              "488928         NaN                    NaN          NaN          NaN   \n",
              "1585981        NaN                    NaN          NaN          NaN   \n",
              "904685         NaN                    NaN          NaN          NaN   \n",
              "\n",
              "        et_save_done  \n",
              "846288           NaN  \n",
              "139717           NaN  \n",
              "488928           NaN  \n",
              "1585981          NaN  \n",
              "904685           NaN  \n",
              "\n",
              "[5 rows x 33 columns]"
            ],
            "text/html": [
              "\n",
              "  <div id=\"df-c13d8c5f-ca33-4e5b-bda8-b083dfef986d\">\n",
              "    <div class=\"colab-df-container\">\n",
              "      <div>\n",
              "<style scoped>\n",
              "    .dataframe tbody tr th:only-of-type {\n",
              "        vertical-align: middle;\n",
              "    }\n",
              "\n",
              "    .dataframe tbody tr th {\n",
              "        vertical-align: top;\n",
              "    }\n",
              "\n",
              "    .dataframe thead th {\n",
              "        text-align: right;\n",
              "    }\n",
              "</style>\n",
              "<table border=\"1\" class=\"dataframe\">\n",
              "  <thead>\n",
              "    <tr style=\"text-align: right;\">\n",
              "      <th></th>\n",
              "      <th>dates</th>\n",
              "      <th>hours</th>\n",
              "      <th>age_layer</th>\n",
              "      <th>se_inflowed</th>\n",
              "      <th>se_joined</th>\n",
              "      <th>se_cert_pv</th>\n",
              "      <th>se_cert_done</th>\n",
              "      <th>se_tax_calculation</th>\n",
              "      <th>se_tax_check</th>\n",
              "      <th>se_pay_pv</th>\n",
              "      <th>...</th>\n",
              "      <th>et_tax_check</th>\n",
              "      <th>et_pay_pv</th>\n",
              "      <th>et_is_not_target</th>\n",
              "      <th>et_ref</th>\n",
              "      <th>et_ref_kt</th>\n",
              "      <th>et_ref_lk</th>\n",
              "      <th>et_additional_info_pv</th>\n",
              "      <th>et_add_done</th>\n",
              "      <th>et_edit_done</th>\n",
              "      <th>et_save_done</th>\n",
              "    </tr>\n",
              "  </thead>\n",
              "  <tbody>\n",
              "    <tr>\n",
              "      <th>846288</th>\n",
              "      <td>2021-04-23</td>\n",
              "      <td>13</td>\n",
              "      <td>Unknown</td>\n",
              "      <td>1650688621809</td>\n",
              "      <td>1.650689e+12</td>\n",
              "      <td>NaN</td>\n",
              "      <td>NaN</td>\n",
              "      <td>NaN</td>\n",
              "      <td>NaN</td>\n",
              "      <td>NaN</td>\n",
              "      <td>...</td>\n",
              "      <td>NaN</td>\n",
              "      <td>NaN</td>\n",
              "      <td>NaN</td>\n",
              "      <td>NaN</td>\n",
              "      <td>NaN</td>\n",
              "      <td>NaN</td>\n",
              "      <td>NaN</td>\n",
              "      <td>NaN</td>\n",
              "      <td>NaN</td>\n",
              "      <td>NaN</td>\n",
              "    </tr>\n",
              "    <tr>\n",
              "      <th>139717</th>\n",
              "      <td>2021-04-26</td>\n",
              "      <td>12</td>\n",
              "      <td>Unknown</td>\n",
              "      <td>1650944665737</td>\n",
              "      <td>NaN</td>\n",
              "      <td>NaN</td>\n",
              "      <td>NaN</td>\n",
              "      <td>NaN</td>\n",
              "      <td>NaN</td>\n",
              "      <td>NaN</td>\n",
              "      <td>...</td>\n",
              "      <td>NaN</td>\n",
              "      <td>NaN</td>\n",
              "      <td>NaN</td>\n",
              "      <td>NaN</td>\n",
              "      <td>NaN</td>\n",
              "      <td>NaN</td>\n",
              "      <td>NaN</td>\n",
              "      <td>NaN</td>\n",
              "      <td>NaN</td>\n",
              "      <td>NaN</td>\n",
              "    </tr>\n",
              "    <tr>\n",
              "      <th>488928</th>\n",
              "      <td>2021-04-28</td>\n",
              "      <td>1</td>\n",
              "      <td>Unknown</td>\n",
              "      <td>1651078791395</td>\n",
              "      <td>NaN</td>\n",
              "      <td>NaN</td>\n",
              "      <td>NaN</td>\n",
              "      <td>NaN</td>\n",
              "      <td>NaN</td>\n",
              "      <td>NaN</td>\n",
              "      <td>...</td>\n",
              "      <td>NaN</td>\n",
              "      <td>NaN</td>\n",
              "      <td>NaN</td>\n",
              "      <td>NaN</td>\n",
              "      <td>NaN</td>\n",
              "      <td>NaN</td>\n",
              "      <td>NaN</td>\n",
              "      <td>NaN</td>\n",
              "      <td>NaN</td>\n",
              "      <td>NaN</td>\n",
              "    </tr>\n",
              "    <tr>\n",
              "      <th>1585981</th>\n",
              "      <td>2021-04-27</td>\n",
              "      <td>11</td>\n",
              "      <td>Unknown</td>\n",
              "      <td>1651026382499</td>\n",
              "      <td>NaN</td>\n",
              "      <td>NaN</td>\n",
              "      <td>NaN</td>\n",
              "      <td>NaN</td>\n",
              "      <td>NaN</td>\n",
              "      <td>NaN</td>\n",
              "      <td>...</td>\n",
              "      <td>NaN</td>\n",
              "      <td>NaN</td>\n",
              "      <td>NaN</td>\n",
              "      <td>NaN</td>\n",
              "      <td>NaN</td>\n",
              "      <td>NaN</td>\n",
              "      <td>NaN</td>\n",
              "      <td>NaN</td>\n",
              "      <td>NaN</td>\n",
              "      <td>NaN</td>\n",
              "    </tr>\n",
              "    <tr>\n",
              "      <th>904685</th>\n",
              "      <td>2021-04-28</td>\n",
              "      <td>14</td>\n",
              "      <td>20s</td>\n",
              "      <td>1651125230080</td>\n",
              "      <td>1.651125e+12</td>\n",
              "      <td>NaN</td>\n",
              "      <td>NaN</td>\n",
              "      <td>NaN</td>\n",
              "      <td>NaN</td>\n",
              "      <td>NaN</td>\n",
              "      <td>...</td>\n",
              "      <td>NaN</td>\n",
              "      <td>NaN</td>\n",
              "      <td>NaN</td>\n",
              "      <td>NaN</td>\n",
              "      <td>NaN</td>\n",
              "      <td>NaN</td>\n",
              "      <td>NaN</td>\n",
              "      <td>NaN</td>\n",
              "      <td>NaN</td>\n",
              "      <td>NaN</td>\n",
              "    </tr>\n",
              "  </tbody>\n",
              "</table>\n",
              "<p>5 rows × 33 columns</p>\n",
              "</div>\n",
              "      <button class=\"colab-df-convert\" onclick=\"convertToInteractive('df-c13d8c5f-ca33-4e5b-bda8-b083dfef986d')\"\n",
              "              title=\"Convert this dataframe to an interactive table.\"\n",
              "              style=\"display:none;\">\n",
              "        \n",
              "  <svg xmlns=\"http://www.w3.org/2000/svg\" height=\"24px\"viewBox=\"0 0 24 24\"\n",
              "       width=\"24px\">\n",
              "    <path d=\"M0 0h24v24H0V0z\" fill=\"none\"/>\n",
              "    <path d=\"M18.56 5.44l.94 2.06.94-2.06 2.06-.94-2.06-.94-.94-2.06-.94 2.06-2.06.94zm-11 1L8.5 8.5l.94-2.06 2.06-.94-2.06-.94L8.5 2.5l-.94 2.06-2.06.94zm10 10l.94 2.06.94-2.06 2.06-.94-2.06-.94-.94-2.06-.94 2.06-2.06.94z\"/><path d=\"M17.41 7.96l-1.37-1.37c-.4-.4-.92-.59-1.43-.59-.52 0-1.04.2-1.43.59L10.3 9.45l-7.72 7.72c-.78.78-.78 2.05 0 2.83L4 21.41c.39.39.9.59 1.41.59.51 0 1.02-.2 1.41-.59l7.78-7.78 2.81-2.81c.8-.78.8-2.07 0-2.86zM5.41 20L4 18.59l7.72-7.72 1.47 1.35L5.41 20z\"/>\n",
              "  </svg>\n",
              "      </button>\n",
              "      \n",
              "  <style>\n",
              "    .colab-df-container {\n",
              "      display:flex;\n",
              "      flex-wrap:wrap;\n",
              "      gap: 12px;\n",
              "    }\n",
              "\n",
              "    .colab-df-convert {\n",
              "      background-color: #E8F0FE;\n",
              "      border: none;\n",
              "      border-radius: 50%;\n",
              "      cursor: pointer;\n",
              "      display: none;\n",
              "      fill: #1967D2;\n",
              "      height: 32px;\n",
              "      padding: 0 0 0 0;\n",
              "      width: 32px;\n",
              "    }\n",
              "\n",
              "    .colab-df-convert:hover {\n",
              "      background-color: #E2EBFA;\n",
              "      box-shadow: 0px 1px 2px rgba(60, 64, 67, 0.3), 0px 1px 3px 1px rgba(60, 64, 67, 0.15);\n",
              "      fill: #174EA6;\n",
              "    }\n",
              "\n",
              "    [theme=dark] .colab-df-convert {\n",
              "      background-color: #3B4455;\n",
              "      fill: #D2E3FC;\n",
              "    }\n",
              "\n",
              "    [theme=dark] .colab-df-convert:hover {\n",
              "      background-color: #434B5C;\n",
              "      box-shadow: 0px 1px 3px 1px rgba(0, 0, 0, 0.15);\n",
              "      filter: drop-shadow(0px 1px 2px rgba(0, 0, 0, 0.3));\n",
              "      fill: #FFFFFF;\n",
              "    }\n",
              "  </style>\n",
              "\n",
              "      <script>\n",
              "        const buttonEl =\n",
              "          document.querySelector('#df-c13d8c5f-ca33-4e5b-bda8-b083dfef986d button.colab-df-convert');\n",
              "        buttonEl.style.display =\n",
              "          google.colab.kernel.accessAllowed ? 'block' : 'none';\n",
              "\n",
              "        async function convertToInteractive(key) {\n",
              "          const element = document.querySelector('#df-c13d8c5f-ca33-4e5b-bda8-b083dfef986d');\n",
              "          const dataTable =\n",
              "            await google.colab.kernel.invokeFunction('convertToInteractive',\n",
              "                                                     [key], {});\n",
              "          if (!dataTable) return;\n",
              "\n",
              "          const docLinkHtml = 'Like what you see? Visit the ' +\n",
              "            '<a target=\"_blank\" href=https://colab.research.google.com/notebooks/data_table.ipynb>data table notebook</a>'\n",
              "            + ' to learn more about interactive tables.';\n",
              "          element.innerHTML = '';\n",
              "          dataTable['output_type'] = 'display_data';\n",
              "          await google.colab.output.renderOutput(dataTable, element);\n",
              "          const docLink = document.createElement('div');\n",
              "          docLink.innerHTML = docLinkHtml;\n",
              "          element.appendChild(docLink);\n",
              "        }\n",
              "      </script>\n",
              "    </div>\n",
              "  </div>\n",
              "  "
            ]
          },
          "metadata": {},
          "execution_count": 6
        }
      ]
    },
    {
      "cell_type": "code",
      "source": [
        "df_base.et_inflowed.sample(5)"
      ],
      "metadata": {
        "colab": {
          "base_uri": "https://localhost:8080/"
        },
        "id": "72OKIBEGKuDZ",
        "outputId": "988820fd-dac5-47a0-d682-3405c981687c"
      },
      "execution_count": 11,
      "outputs": [
        {
          "output_type": "execute_result",
          "data": {
            "text/plain": [
              "1202300    2021-04-23 14:05:40.507\n",
              "17369      2021-04-27 13:23:02.514\n",
              "1397956    2021-04-27 10:14:54.321\n",
              "1741896    2021-04-28 18:53:16.964\n",
              "1329816    2021-04-25 14:46:16.499\n",
              "Name: et_inflowed, dtype: object"
            ]
          },
          "metadata": {},
          "execution_count": 11
        }
      ]
    },
    {
      "cell_type": "code",
      "source": [
        "print(df_base.hours.min())\n",
        "print(df_base.hours.max()) # hours = 시간"
      ],
      "metadata": {
        "colab": {
          "base_uri": "https://localhost:8080/"
        },
        "id": "n7prg2hNNKwW",
        "outputId": "addc7b30-d70c-4f8d-be87-e1b05c5ece0f"
      },
      "execution_count": 7,
      "outputs": [
        {
          "output_type": "stream",
          "name": "stdout",
          "text": [
            "0\n",
            "23\n"
          ]
        }
      ]
    },
    {
      "cell_type": "code",
      "source": [
        "from datetime import datetime\n",
        "\n",
        "print(pd.to_datetime(df_base.dates).min())\n",
        "print(pd.to_datetime(df_base.dates).max())\n"
      ],
      "metadata": {
        "colab": {
          "base_uri": "https://localhost:8080/"
        },
        "id": "sl3T_NgDNWIM",
        "outputId": "0c93408f-0e94-432a-d727-f479c7066288"
      },
      "execution_count": 8,
      "outputs": [
        {
          "output_type": "stream",
          "name": "stdout",
          "text": [
            "2021-04-23 00:00:00\n",
            "2021-04-29 00:00:00\n"
          ]
        }
      ]
    },
    {
      "cell_type": "code",
      "source": [
        "df_base.age_layer.unique()"
      ],
      "metadata": {
        "colab": {
          "base_uri": "https://localhost:8080/"
        },
        "id": "6N4uJpYSOepY",
        "outputId": "360a30ea-fa14-40d4-9f2a-e8a4acd964f7"
      },
      "execution_count": 9,
      "outputs": [
        {
          "output_type": "execute_result",
          "data": {
            "text/plain": [
              "array(['Unknown', '40s', '20s', '50s', '30s', '60s'], dtype=object)"
            ]
          },
          "metadata": {},
          "execution_count": 9
        }
      ]
    },
    {
      "cell_type": "markdown",
      "source": [
        "#_2. 데이터 scheme 확인\n",
        "\n",
        "|column|desc|type|\n",
        "|---|---|---|\n",
        "|dates|날짜|datetime|\n",
        "|hours|시간|int|\n",
        "|age_layer|나잇대|int|\n",
        "|---|---|---|\n",
        "|se_|session time| float |\n",
        "|et_|event time| datetime|\n"
      ],
      "metadata": {
        "id": "gwfCgKGwM1mX"
      }
    },
    {
      "cell_type": "markdown",
      "source": [
        "![image.png](data:image/png;base64,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)"
      ],
      "metadata": {
        "id": "-Ve534TjQHmw"
      }
    },
    {
      "cell_type": "code",
      "source": [
        "df_base.columns.tolist()"
      ],
      "metadata": {
        "id": "1Kl_gC7QM2Ai",
        "colab": {
          "base_uri": "https://localhost:8080/"
        },
        "outputId": "4d060e7e-2b8f-44b2-e9b9-98f6a16f8f2c"
      },
      "execution_count": 15,
      "outputs": [
        {
          "output_type": "execute_result",
          "data": {
            "text/plain": [
              "['dates',\n",
              " 'hours',\n",
              " 'age_layer',\n",
              " 'se_inflowed',\n",
              " 'se_joined',\n",
              " 'se_cert_pv',\n",
              " 'se_cert_done',\n",
              " 'se_tax_calculation',\n",
              " 'se_tax_check',\n",
              " 'se_pay_pv',\n",
              " 'se_is_not_target',\n",
              " 'se_ref',\n",
              " 'se_ref_kt',\n",
              " 'se_ref_lk',\n",
              " 'se_additional_info_pv',\n",
              " 'se_add_done',\n",
              " 'se_edit_done',\n",
              " 'se_save_done',\n",
              " 'et_inflowed',\n",
              " 'et_joined',\n",
              " 'et_cert_pv',\n",
              " 'et_cert_done',\n",
              " 'et_tax_calculation',\n",
              " 'et_tax_check',\n",
              " 'et_pay_pv',\n",
              " 'et_is_not_target',\n",
              " 'et_ref',\n",
              " 'et_ref_kt',\n",
              " 'et_ref_lk',\n",
              " 'et_additional_info_pv',\n",
              " 'et_add_done',\n",
              " 'et_edit_done',\n",
              " 'et_save_done',\n",
              " 'basic']"
            ]
          },
          "metadata": {},
          "execution_count": 15
        }
      ]
    },
    {
      "cell_type": "markdown",
      "source": [
        "## 2.1 집계기준 분리 (category)\n",
        "- `집계 기준이 될 컬럼`과 `집계 대상이 될 컬럼`을 구분"
      ],
      "metadata": {
        "id": "E6uUnNGAM2RK"
      }
    },
    {
      "cell_type": "code",
      "source": [
        "df_base[['dates', 'hours', 'age_layer']].head()"
      ],
      "metadata": {
        "colab": {
          "base_uri": "https://localhost:8080/",
          "height": 206
        },
        "id": "jlpQfPyIPQU7",
        "outputId": "14bf7844-cea1-4038-98ac-7feb8ae2ffe7"
      },
      "execution_count": 12,
      "outputs": [
        {
          "output_type": "execute_result",
          "data": {
            "text/plain": [
              "        dates  hours age_layer\n",
              "0  2021-04-29      1   Unknown\n",
              "1  2021-04-29      4   Unknown\n",
              "2  2021-04-29      3   Unknown\n",
              "3  2021-04-28     10   Unknown\n",
              "4  2021-04-28     21   Unknown"
            ],
            "text/html": [
              "\n",
              "  <div id=\"df-fe334a82-f360-42c8-885d-510837bee41c\">\n",
              "    <div class=\"colab-df-container\">\n",
              "      <div>\n",
              "<style scoped>\n",
              "    .dataframe tbody tr th:only-of-type {\n",
              "        vertical-align: middle;\n",
              "    }\n",
              "\n",
              "    .dataframe tbody tr th {\n",
              "        vertical-align: top;\n",
              "    }\n",
              "\n",
              "    .dataframe thead th {\n",
              "        text-align: right;\n",
              "    }\n",
              "</style>\n",
              "<table border=\"1\" class=\"dataframe\">\n",
              "  <thead>\n",
              "    <tr style=\"text-align: right;\">\n",
              "      <th></th>\n",
              "      <th>dates</th>\n",
              "      <th>hours</th>\n",
              "      <th>age_layer</th>\n",
              "    </tr>\n",
              "  </thead>\n",
              "  <tbody>\n",
              "    <tr>\n",
              "      <th>0</th>\n",
              "      <td>2021-04-29</td>\n",
              "      <td>1</td>\n",
              "      <td>Unknown</td>\n",
              "    </tr>\n",
              "    <tr>\n",
              "      <th>1</th>\n",
              "      <td>2021-04-29</td>\n",
              "      <td>4</td>\n",
              "      <td>Unknown</td>\n",
              "    </tr>\n",
              "    <tr>\n",
              "      <th>2</th>\n",
              "      <td>2021-04-29</td>\n",
              "      <td>3</td>\n",
              "      <td>Unknown</td>\n",
              "    </tr>\n",
              "    <tr>\n",
              "      <th>3</th>\n",
              "      <td>2021-04-28</td>\n",
              "      <td>10</td>\n",
              "      <td>Unknown</td>\n",
              "    </tr>\n",
              "    <tr>\n",
              "      <th>4</th>\n",
              "      <td>2021-04-28</td>\n",
              "      <td>21</td>\n",
              "      <td>Unknown</td>\n",
              "    </tr>\n",
              "  </tbody>\n",
              "</table>\n",
              "</div>\n",
              "      <button class=\"colab-df-convert\" onclick=\"convertToInteractive('df-fe334a82-f360-42c8-885d-510837bee41c')\"\n",
              "              title=\"Convert this dataframe to an interactive table.\"\n",
              "              style=\"display:none;\">\n",
              "        \n",
              "  <svg xmlns=\"http://www.w3.org/2000/svg\" height=\"24px\"viewBox=\"0 0 24 24\"\n",
              "       width=\"24px\">\n",
              "    <path d=\"M0 0h24v24H0V0z\" fill=\"none\"/>\n",
              "    <path d=\"M18.56 5.44l.94 2.06.94-2.06 2.06-.94-2.06-.94-.94-2.06-.94 2.06-2.06.94zm-11 1L8.5 8.5l.94-2.06 2.06-.94-2.06-.94L8.5 2.5l-.94 2.06-2.06.94zm10 10l.94 2.06.94-2.06 2.06-.94-2.06-.94-.94-2.06-.94 2.06-2.06.94z\"/><path d=\"M17.41 7.96l-1.37-1.37c-.4-.4-.92-.59-1.43-.59-.52 0-1.04.2-1.43.59L10.3 9.45l-7.72 7.72c-.78.78-.78 2.05 0 2.83L4 21.41c.39.39.9.59 1.41.59.51 0 1.02-.2 1.41-.59l7.78-7.78 2.81-2.81c.8-.78.8-2.07 0-2.86zM5.41 20L4 18.59l7.72-7.72 1.47 1.35L5.41 20z\"/>\n",
              "  </svg>\n",
              "      </button>\n",
              "      \n",
              "  <style>\n",
              "    .colab-df-container {\n",
              "      display:flex;\n",
              "      flex-wrap:wrap;\n",
              "      gap: 12px;\n",
              "    }\n",
              "\n",
              "    .colab-df-convert {\n",
              "      background-color: #E8F0FE;\n",
              "      border: none;\n",
              "      border-radius: 50%;\n",
              "      cursor: pointer;\n",
              "      display: none;\n",
              "      fill: #1967D2;\n",
              "      height: 32px;\n",
              "      padding: 0 0 0 0;\n",
              "      width: 32px;\n",
              "    }\n",
              "\n",
              "    .colab-df-convert:hover {\n",
              "      background-color: #E2EBFA;\n",
              "      box-shadow: 0px 1px 2px rgba(60, 64, 67, 0.3), 0px 1px 3px 1px rgba(60, 64, 67, 0.15);\n",
              "      fill: #174EA6;\n",
              "    }\n",
              "\n",
              "    [theme=dark] .colab-df-convert {\n",
              "      background-color: #3B4455;\n",
              "      fill: #D2E3FC;\n",
              "    }\n",
              "\n",
              "    [theme=dark] .colab-df-convert:hover {\n",
              "      background-color: #434B5C;\n",
              "      box-shadow: 0px 1px 3px 1px rgba(0, 0, 0, 0.15);\n",
              "      filter: drop-shadow(0px 1px 2px rgba(0, 0, 0, 0.3));\n",
              "      fill: #FFFFFF;\n",
              "    }\n",
              "  </style>\n",
              "\n",
              "      <script>\n",
              "        const buttonEl =\n",
              "          document.querySelector('#df-fe334a82-f360-42c8-885d-510837bee41c button.colab-df-convert');\n",
              "        buttonEl.style.display =\n",
              "          google.colab.kernel.accessAllowed ? 'block' : 'none';\n",
              "\n",
              "        async function convertToInteractive(key) {\n",
              "          const element = document.querySelector('#df-fe334a82-f360-42c8-885d-510837bee41c');\n",
              "          const dataTable =\n",
              "            await google.colab.kernel.invokeFunction('convertToInteractive',\n",
              "                                                     [key], {});\n",
              "          if (!dataTable) return;\n",
              "\n",
              "          const docLinkHtml = 'Like what you see? Visit the ' +\n",
              "            '<a target=\"_blank\" href=https://colab.research.google.com/notebooks/data_table.ipynb>data table notebook</a>'\n",
              "            + ' to learn more about interactive tables.';\n",
              "          element.innerHTML = '';\n",
              "          dataTable['output_type'] = 'display_data';\n",
              "          await google.colab.output.renderOutput(dataTable, element);\n",
              "          const docLink = document.createElement('div');\n",
              "          docLink.innerHTML = docLinkHtml;\n",
              "          element.appendChild(docLink);\n",
              "        }\n",
              "      </script>\n",
              "    </div>\n",
              "  </div>\n",
              "  "
            ]
          },
          "metadata": {},
          "execution_count": 12
        }
      ]
    },
    {
      "cell_type": "code",
      "source": [
        "#집계 기준: dates, hours, age_layer\n",
        "category = ['dates', 'hours', 'age_layer']"
      ],
      "metadata": {
        "id": "hbEXdsgxM2an"
      },
      "execution_count": 21,
      "outputs": []
    },
    {
      "cell_type": "code",
      "source": [
        "df_base['basic'] = 1"
      ],
      "metadata": {
        "id": "_sBU8iWuPM7C"
      },
      "execution_count": 13,
      "outputs": []
    },
    {
      "cell_type": "markdown",
      "source": [
        "## 2.2 가입 (df_signup)"
      ],
      "metadata": {
        "id": "iivgG4iZPkD_"
      }
    },
    {
      "cell_type": "code",
      "source": [
        "signup = df_base.columns.tolist()[3:11]\n",
        "signup"
      ],
      "metadata": {
        "colab": {
          "base_uri": "https://localhost:8080/"
        },
        "id": "0W-9CXZqPjp4",
        "outputId": "d5c74057-ea10-43c3-d813-db1dba69e00f"
      },
      "execution_count": 19,
      "outputs": [
        {
          "output_type": "execute_result",
          "data": {
            "text/plain": [
              "['se_inflowed',\n",
              " 'se_joined',\n",
              " 'se_cert_pv',\n",
              " 'se_cert_done',\n",
              " 'se_tax_calculation',\n",
              " 'se_tax_check',\n",
              " 'se_pay_pv',\n",
              " 'se_is_not_target']"
            ]
          },
          "metadata": {},
          "execution_count": 19
        }
      ]
    },
    {
      "cell_type": "code",
      "source": [
        "signup_v1 = category + signup"
      ],
      "metadata": {
        "id": "8ZKmHLMpTrJ7"
      },
      "execution_count": 23,
      "outputs": []
    },
    {
      "cell_type": "code",
      "source": [
        "df_signup = df_base[signup_v1]\n",
        "df_signup.head()"
      ],
      "metadata": {
        "colab": {
          "base_uri": "https://localhost:8080/",
          "height": 357
        },
        "id": "wPESXEHATrMG",
        "outputId": "a05013c9-9ada-47d5-cf1d-b29ed028be24"
      },
      "execution_count": 24,
      "outputs": [
        {
          "output_type": "execute_result",
          "data": {
            "text/plain": [
              "        dates  hours age_layer    se_inflowed  se_joined  se_cert_pv  \\\n",
              "0  2021-04-29      1   Unknown  1651164079013        NaN         NaN   \n",
              "1  2021-04-29      4   Unknown  1651175470863        NaN         NaN   \n",
              "2  2021-04-29      3   Unknown  1651172275521        NaN         NaN   \n",
              "3  2021-04-28     10   Unknown  1651107651854        NaN         NaN   \n",
              "4  2021-04-28     21   Unknown  1651149494804        NaN         NaN   \n",
              "\n",
              "   se_cert_done  se_tax_calculation  se_tax_check  se_pay_pv  se_is_not_target  \n",
              "0           NaN                 NaN           NaN        NaN               NaN  \n",
              "1           NaN                 NaN           NaN        NaN               NaN  \n",
              "2           NaN                 NaN           NaN        NaN               NaN  \n",
              "3           NaN                 NaN           NaN        NaN               NaN  \n",
              "4           NaN                 NaN           NaN        NaN               NaN  "
            ],
            "text/html": [
              "\n",
              "  <div id=\"df-2a7e6555-37ab-4bd1-9ef4-b708bb8333ea\">\n",
              "    <div class=\"colab-df-container\">\n",
              "      <div>\n",
              "<style scoped>\n",
              "    .dataframe tbody tr th:only-of-type {\n",
              "        vertical-align: middle;\n",
              "    }\n",
              "\n",
              "    .dataframe tbody tr th {\n",
              "        vertical-align: top;\n",
              "    }\n",
              "\n",
              "    .dataframe thead th {\n",
              "        text-align: right;\n",
              "    }\n",
              "</style>\n",
              "<table border=\"1\" class=\"dataframe\">\n",
              "  <thead>\n",
              "    <tr style=\"text-align: right;\">\n",
              "      <th></th>\n",
              "      <th>dates</th>\n",
              "      <th>hours</th>\n",
              "      <th>age_layer</th>\n",
              "      <th>se_inflowed</th>\n",
              "      <th>se_joined</th>\n",
              "      <th>se_cert_pv</th>\n",
              "      <th>se_cert_done</th>\n",
              "      <th>se_tax_calculation</th>\n",
              "      <th>se_tax_check</th>\n",
              "      <th>se_pay_pv</th>\n",
              "      <th>se_is_not_target</th>\n",
              "    </tr>\n",
              "  </thead>\n",
              "  <tbody>\n",
              "    <tr>\n",
              "      <th>0</th>\n",
              "      <td>2021-04-29</td>\n",
              "      <td>1</td>\n",
              "      <td>Unknown</td>\n",
              "      <td>1651164079013</td>\n",
              "      <td>NaN</td>\n",
              "      <td>NaN</td>\n",
              "      <td>NaN</td>\n",
              "      <td>NaN</td>\n",
              "      <td>NaN</td>\n",
              "      <td>NaN</td>\n",
              "      <td>NaN</td>\n",
              "    </tr>\n",
              "    <tr>\n",
              "      <th>1</th>\n",
              "      <td>2021-04-29</td>\n",
              "      <td>4</td>\n",
              "      <td>Unknown</td>\n",
              "      <td>1651175470863</td>\n",
              "      <td>NaN</td>\n",
              "      <td>NaN</td>\n",
              "      <td>NaN</td>\n",
              "      <td>NaN</td>\n",
              "      <td>NaN</td>\n",
              "      <td>NaN</td>\n",
              "      <td>NaN</td>\n",
              "    </tr>\n",
              "    <tr>\n",
              "      <th>2</th>\n",
              "      <td>2021-04-29</td>\n",
              "      <td>3</td>\n",
              "      <td>Unknown</td>\n",
              "      <td>1651172275521</td>\n",
              "      <td>NaN</td>\n",
              "      <td>NaN</td>\n",
              "      <td>NaN</td>\n",
              "      <td>NaN</td>\n",
              "      <td>NaN</td>\n",
              "      <td>NaN</td>\n",
              "      <td>NaN</td>\n",
              "    </tr>\n",
              "    <tr>\n",
              "      <th>3</th>\n",
              "      <td>2021-04-28</td>\n",
              "      <td>10</td>\n",
              "      <td>Unknown</td>\n",
              "      <td>1651107651854</td>\n",
              "      <td>NaN</td>\n",
              "      <td>NaN</td>\n",
              "      <td>NaN</td>\n",
              "      <td>NaN</td>\n",
              "      <td>NaN</td>\n",
              "      <td>NaN</td>\n",
              "      <td>NaN</td>\n",
              "    </tr>\n",
              "    <tr>\n",
              "      <th>4</th>\n",
              "      <td>2021-04-28</td>\n",
              "      <td>21</td>\n",
              "      <td>Unknown</td>\n",
              "      <td>1651149494804</td>\n",
              "      <td>NaN</td>\n",
              "      <td>NaN</td>\n",
              "      <td>NaN</td>\n",
              "      <td>NaN</td>\n",
              "      <td>NaN</td>\n",
              "      <td>NaN</td>\n",
              "      <td>NaN</td>\n",
              "    </tr>\n",
              "  </tbody>\n",
              "</table>\n",
              "</div>\n",
              "      <button class=\"colab-df-convert\" onclick=\"convertToInteractive('df-2a7e6555-37ab-4bd1-9ef4-b708bb8333ea')\"\n",
              "              title=\"Convert this dataframe to an interactive table.\"\n",
              "              style=\"display:none;\">\n",
              "        \n",
              "  <svg xmlns=\"http://www.w3.org/2000/svg\" height=\"24px\"viewBox=\"0 0 24 24\"\n",
              "       width=\"24px\">\n",
              "    <path d=\"M0 0h24v24H0V0z\" fill=\"none\"/>\n",
              "    <path d=\"M18.56 5.44l.94 2.06.94-2.06 2.06-.94-2.06-.94-.94-2.06-.94 2.06-2.06.94zm-11 1L8.5 8.5l.94-2.06 2.06-.94-2.06-.94L8.5 2.5l-.94 2.06-2.06.94zm10 10l.94 2.06.94-2.06 2.06-.94-2.06-.94-.94-2.06-.94 2.06-2.06.94z\"/><path d=\"M17.41 7.96l-1.37-1.37c-.4-.4-.92-.59-1.43-.59-.52 0-1.04.2-1.43.59L10.3 9.45l-7.72 7.72c-.78.78-.78 2.05 0 2.83L4 21.41c.39.39.9.59 1.41.59.51 0 1.02-.2 1.41-.59l7.78-7.78 2.81-2.81c.8-.78.8-2.07 0-2.86zM5.41 20L4 18.59l7.72-7.72 1.47 1.35L5.41 20z\"/>\n",
              "  </svg>\n",
              "      </button>\n",
              "      \n",
              "  <style>\n",
              "    .colab-df-container {\n",
              "      display:flex;\n",
              "      flex-wrap:wrap;\n",
              "      gap: 12px;\n",
              "    }\n",
              "\n",
              "    .colab-df-convert {\n",
              "      background-color: #E8F0FE;\n",
              "      border: none;\n",
              "      border-radius: 50%;\n",
              "      cursor: pointer;\n",
              "      display: none;\n",
              "      fill: #1967D2;\n",
              "      height: 32px;\n",
              "      padding: 0 0 0 0;\n",
              "      width: 32px;\n",
              "    }\n",
              "\n",
              "    .colab-df-convert:hover {\n",
              "      background-color: #E2EBFA;\n",
              "      box-shadow: 0px 1px 2px rgba(60, 64, 67, 0.3), 0px 1px 3px 1px rgba(60, 64, 67, 0.15);\n",
              "      fill: #174EA6;\n",
              "    }\n",
              "\n",
              "    [theme=dark] .colab-df-convert {\n",
              "      background-color: #3B4455;\n",
              "      fill: #D2E3FC;\n",
              "    }\n",
              "\n",
              "    [theme=dark] .colab-df-convert:hover {\n",
              "      background-color: #434B5C;\n",
              "      box-shadow: 0px 1px 3px 1px rgba(0, 0, 0, 0.15);\n",
              "      filter: drop-shadow(0px 1px 2px rgba(0, 0, 0, 0.3));\n",
              "      fill: #FFFFFF;\n",
              "    }\n",
              "  </style>\n",
              "\n",
              "      <script>\n",
              "        const buttonEl =\n",
              "          document.querySelector('#df-2a7e6555-37ab-4bd1-9ef4-b708bb8333ea button.colab-df-convert');\n",
              "        buttonEl.style.display =\n",
              "          google.colab.kernel.accessAllowed ? 'block' : 'none';\n",
              "\n",
              "        async function convertToInteractive(key) {\n",
              "          const element = document.querySelector('#df-2a7e6555-37ab-4bd1-9ef4-b708bb8333ea');\n",
              "          const dataTable =\n",
              "            await google.colab.kernel.invokeFunction('convertToInteractive',\n",
              "                                                     [key], {});\n",
              "          if (!dataTable) return;\n",
              "\n",
              "          const docLinkHtml = 'Like what you see? Visit the ' +\n",
              "            '<a target=\"_blank\" href=https://colab.research.google.com/notebooks/data_table.ipynb>data table notebook</a>'\n",
              "            + ' to learn more about interactive tables.';\n",
              "          element.innerHTML = '';\n",
              "          dataTable['output_type'] = 'display_data';\n",
              "          await google.colab.output.renderOutput(dataTable, element);\n",
              "          const docLink = document.createElement('div');\n",
              "          docLink.innerHTML = docLinkHtml;\n",
              "          element.appendChild(docLink);\n",
              "        }\n",
              "      </script>\n",
              "    </div>\n",
              "  </div>\n",
              "  "
            ]
          },
          "metadata": {},
          "execution_count": 24
        }
      ]
    },
    {
      "cell_type": "code",
      "source": [
        "df_signup.info()"
      ],
      "metadata": {
        "colab": {
          "base_uri": "https://localhost:8080/"
        },
        "id": "wOQr2-CyU262",
        "outputId": "c9200d03-d387-4530-ac1d-9b9de09def87"
      },
      "execution_count": 25,
      "outputs": [
        {
          "output_type": "stream",
          "name": "stdout",
          "text": [
            "<class 'pandas.core.frame.DataFrame'>\n",
            "RangeIndex: 1902435 entries, 0 to 1902434\n",
            "Data columns (total 11 columns):\n",
            " #   Column              Dtype  \n",
            "---  ------              -----  \n",
            " 0   dates               object \n",
            " 1   hours               int64  \n",
            " 2   age_layer           object \n",
            " 3   se_inflowed         int64  \n",
            " 4   se_joined           float64\n",
            " 5   se_cert_pv          float64\n",
            " 6   se_cert_done        float64\n",
            " 7   se_tax_calculation  float64\n",
            " 8   se_tax_check        float64\n",
            " 9   se_pay_pv           float64\n",
            " 10  se_is_not_target    float64\n",
            "dtypes: float64(7), int64(2), object(2)\n",
            "memory usage: 159.7+ MB\n"
          ]
        }
      ]
    },
    {
      "cell_type": "code",
      "source": [
        "for col in df_signup.columns:\n",
        "  msg = 'column: {:>10}\\t Percent of NaN Value: {:.2f}%'.format(col, 100 * (df_signup[col].isnull().sum() / df_signup[col].shape[0]))\n",
        "  print(msg)"
      ],
      "metadata": {
        "colab": {
          "base_uri": "https://localhost:8080/"
        },
        "id": "QbGcD2lFVM3J",
        "outputId": "09e17a24-d37a-4b02-b2ae-372753033426"
      },
      "execution_count": 33,
      "outputs": [
        {
          "output_type": "stream",
          "name": "stdout",
          "text": [
            "column:      dates\t Percent of NaN Value: 0.00%\n",
            "column:      hours\t Percent of NaN Value: 0.00%\n",
            "column:  age_layer\t Percent of NaN Value: 0.00%\n",
            "column: se_inflowed\t Percent of NaN Value: 0.00%\n",
            "column:  se_joined\t Percent of NaN Value: 68.44%\n",
            "column: se_cert_pv\t Percent of NaN Value: 83.90%\n",
            "column: se_cert_done\t Percent of NaN Value: 90.43%\n",
            "column: se_tax_calculation\t Percent of NaN Value: 92.11%\n",
            "column: se_tax_check\t Percent of NaN Value: 92.36%\n",
            "column:  se_pay_pv\t Percent of NaN Value: 98.18%\n",
            "column: se_is_not_target\t Percent of NaN Value: 97.91%\n"
          ]
        }
      ]
    },
    {
      "cell_type": "code",
      "source": [
        "import missingno as msno\n",
        "\n",
        "msno.matrix(df = df_signup.iloc[:, :], figsize=(6, 6), color = (1, 0.5, 0.2))"
      ],
      "metadata": {
        "colab": {
          "base_uri": "https://localhost:8080/",
          "height": 702
        },
        "id": "1clxY93WVMmR",
        "outputId": "5eb4da77-a0ec-4a21-92b9-8bb3ea013671"
      },
      "execution_count": 26,
      "outputs": [
        {
          "output_type": "execute_result",
          "data": {
            "text/plain": [
              "<Axes: >"
            ]
          },
          "metadata": {},
          "execution_count": 26
        },
        {
          "output_type": "display_data",
          "data": {
            "text/plain": [
              "<Figure size 600x600 with 2 Axes>"
            ],
            "image/png": "[encoded data removed]"
          },
          "metadata": {}
        }
      ]
    },
    {
      "cell_type": "code",
      "source": [],
      "metadata": {
        "id": "skw1V5s7bCKm"
      },
      "execution_count": null,
      "outputs": []
    },
    {
      "cell_type": "markdown",
      "source": [
        "## 2.3 친구 소개 (df_ref)"
      ],
      "metadata": {
        "id": "sXFB4WNPPkYz"
      }
    },
    {
      "cell_type": "code",
      "source": [
        "ref = df_base.columns.tolist()[11:18]"
      ],
      "metadata": {
        "id": "VfyThVZBPknc"
      },
      "execution_count": 28,
      "outputs": []
    },
    {
      "cell_type": "code",
      "source": [
        "ref_v1 = category + ref\n",
        "df_ref = df_base[ref_v1]\n",
        "df_ref.info()"
      ],
      "metadata": {
        "colab": {
          "base_uri": "https://localhost:8080/"
        },
        "id": "B2_c-Ps3aXFj",
        "outputId": "aabf3b67-5f3a-4035-cdcb-138d90a63f3c"
      },
      "execution_count": 29,
      "outputs": [
        {
          "output_type": "stream",
          "name": "stdout",
          "text": [
            "<class 'pandas.core.frame.DataFrame'>\n",
            "RangeIndex: 1902435 entries, 0 to 1902434\n",
            "Data columns (total 10 columns):\n",
            " #   Column                 Dtype  \n",
            "---  ------                 -----  \n",
            " 0   dates                  object \n",
            " 1   hours                  int64  \n",
            " 2   age_layer              object \n",
            " 3   se_ref                 float64\n",
            " 4   se_ref_kt              float64\n",
            " 5   se_ref_lk              float64\n",
            " 6   se_additional_info_pv  float64\n",
            " 7   se_add_done            float64\n",
            " 8   se_edit_done           float64\n",
            " 9   se_save_done           float64\n",
            "dtypes: float64(7), int64(1), object(2)\n",
            "memory usage: 145.1+ MB\n"
          ]
        }
      ]
    },
    {
      "cell_type": "code",
      "source": [
        "for col in df_ref.columns:\n",
        "  msg = 'column: {:>10}\\t Percent of NaN Value: {:.2f}%'.format(col, 100 * (df_ref[col].isnull().sum() / df_ref[col].shape[0]))\n",
        "  print(msg)"
      ],
      "metadata": {
        "colab": {
          "base_uri": "https://localhost:8080/"
        },
        "id": "PUQUpsKIaxWC",
        "outputId": "4fceee25-9286-4c9b-849d-ebc6f6b4db6b"
      },
      "execution_count": 32,
      "outputs": [
        {
          "output_type": "stream",
          "name": "stdout",
          "text": [
            "column:      dates\t Percent of NaN Value: 0.00%\n",
            "column:      hours\t Percent of NaN Value: 0.00%\n",
            "column:  age_layer\t Percent of NaN Value: 0.00%\n",
            "column:     se_ref\t Percent of NaN Value: 99.87%\n",
            "column:  se_ref_kt\t Percent of NaN Value: 99.91%\n",
            "column:  se_ref_lk\t Percent of NaN Value: 100.00%\n",
            "column: se_additional_info_pv\t Percent of NaN Value: 99.47%\n",
            "column: se_add_done\t Percent of NaN Value: 99.98%\n",
            "column: se_edit_done\t Percent of NaN Value: 99.95%\n",
            "column: se_save_done\t Percent of NaN Value: 99.51%\n"
          ]
        }
      ]
    },
    {
      "cell_type": "code",
      "source": [
        "%%time\n",
        "msno.matrix(df = df_ref.iloc[:, :], figsize=(6, 6), color = (1, 0.5, 0.2))"
      ],
      "metadata": {
        "colab": {
          "base_uri": "https://localhost:8080/",
          "height": 762
        },
        "id": "NrFIqu8jakES",
        "outputId": "5be03419-1dad-4912-a054-aa258ac6a010"
      },
      "execution_count": 31,
      "outputs": [
        {
          "output_type": "stream",
          "name": "stdout",
          "text": [
            "CPU times: user 3.64 s, sys: 410 ms, total: 4.05 s\n",
            "Wall time: 3.97 s\n"
          ]
        },
        {
          "output_type": "execute_result",
          "data": {
            "text/plain": [
              "<Axes: >"
            ]
          },
          "metadata": {},
          "execution_count": 31
        },
        {
          "output_type": "display_data",
          "data": {
            "text/plain": [
              "<Figure size 600x600 with 2 Axes>"
            ],
            "image/png": "[encoded data removed]"
          },
          "metadata": {}
        }
      ]
    },
    {
      "cell_type": "code",
      "source": [],
      "metadata": {
        "id": "nm5qYlKoakJk"
      },
      "execution_count": null,
      "outputs": []
    },
    {
      "cell_type": "markdown",
      "source": [
        "#_3. 전환율"
      ],
      "metadata": {
        "id": "r3XGNOjlM21I"
      }
    },
    {
      "cell_type": "markdown",
      "source": [
        "##3.1 가입 전환율 (df_signup)"
      ],
      "metadata": {
        "id": "0DYy5GYCbIFP"
      }
    },
    {
      "cell_type": "code",
      "source": [],
      "metadata": {
        "id": "a0mvoPSlbJj4"
      },
      "execution_count": null,
      "outputs": []
    },
    {
      "cell_type": "code",
      "source": [],
      "metadata": {
        "id": "Z9HCoAvUbJmL"
      },
      "execution_count": null,
      "outputs": []
    },
    {
      "cell_type": "markdown",
      "source": [
        "##3.2 친구추천 전환율 (df_ref)"
      ],
      "metadata": {
        "id": "MdivZJxnbIvK"
      }
    },
    {
      "cell_type": "code",
      "source": [],
      "metadata": {
        "id": "GNJTDIxCM3A6"
      },
      "execution_count": 9,
      "outputs": []
    },
    {
      "cell_type": "code",
      "source": [],
      "metadata": {
        "id": "HGxCNxNwM3DG"
      },
      "execution_count": 9,
      "outputs": []
    },
    {
      "cell_type": "markdown",
      "source": [
        "#_4. 체류시간"
      ],
      "metadata": {
        "id": "warLIGVFP8I1"
      }
    },
    {
      "cell_type": "code",
      "source": [],
      "metadata": {
        "id": "5hdZUnZ9P8R7"
      },
      "execution_count": 9,
      "outputs": []
    },
    {
      "cell_type": "code",
      "source": [],
      "metadata": {
        "id": "wJ01yagvP8XL"
      },
      "execution_count": 9,
      "outputs": []
    }
  ]
}